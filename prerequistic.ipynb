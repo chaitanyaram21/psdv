{
  "nbformat": 4,
  "nbformat_minor": 0,
  "metadata": {
    "colab": {
      "provenance": [],
      "authorship_tag": "ABX9TyPU5oDqT8G5PxWySH4MP0kO",
      "include_colab_link": true
    },
    "kernelspec": {
      "name": "python3",
      "display_name": "Python 3"
    },
    "language_info": {
      "name": "python"
    }
  },
  "cells": [
    {
      "cell_type": "markdown",
      "metadata": {
        "id": "view-in-github",
        "colab_type": "text"
      },
      "source": [
        "<a href=\"https://colab.research.google.com/github/chaitanyaram21/psdv/blob/tutorials/prerequistic.ipynb\" target=\"_parent\"><img src=\"https://colab.research.google.com/assets/colab-badge.svg\" alt=\"Open In Colab\"/></a>"
      ]
    },
    {
      "cell_type": "code",
      "source": [
        "#Q.1\n",
        "n=int(input())\n",
        "list=[]\n",
        "#forming list\n",
        "i=1\n",
        "while i<=n:\n",
        "  list.append(i)\n",
        "  i=i+1\n",
        "print(list)\n",
        "#sum of even\n",
        "s=0\n",
        "for j in list :\n",
        "  if j%2 == 0:\n",
        "    s = s+j\n",
        "print(f\"sum is {s}\")\n",
        "#product of odd\n",
        "pro=1\n",
        "for k in list:\n",
        "  if k%2 !=0:\n",
        "    pro=pro*k\n",
        "print(f\"product is {pro}\")\n",
        "print(f\"mean is {sum/n}\")"
      ],
      "metadata": {
        "id": "IXPvOnVvxxRX"
      },
      "execution_count": null,
      "outputs": []
    },
    {
      "cell_type": "code",
      "source": [
        "#Q.2\n",
        "\"\"\"\n",
        "In Python, mutable types like lists and dictionaries can be changed after giving inputs or defining it,\n",
        "while immutable types like strings and tuples cannot be changed once defined in the program.\"\"\""
      ],
      "metadata": {
        "id": "DZXAjMQrzQic"
      },
      "execution_count": null,
      "outputs": []
    },
    {
      "cell_type": "code",
      "source": [
        "#Q.3\n",
        "n = int(input())\n",
        "a = 1\n",
        "b = 2\n",
        "for i in range(0,n):\n",
        "    print(a, end = \" \")\n",
        "    c = a+b\n",
        "    a = b\n",
        "    b = c"
      ],
      "metadata": {
        "id": "vZrAHINQyTG5"
      },
      "execution_count": null,
      "outputs": []
    },
    {
      "cell_type": "code",
      "source": [
        "#Q.4\n",
        "list = [3,5,7,9,11,13]\n",
        "list.insert(2,6)\n",
        "del list[3]\n",
        "list.reverse()\n",
        "print(list)\n",
        "sum=0\n",
        "n=0\n",
        "for i in list:\n",
        "  sum=sum+i\n",
        "  n=n+1\n",
        "print(f\"mean of the list is {sum/n}\")"
      ],
      "metadata": {
        "id": "hwe_PX9BzlML"
      },
      "execution_count": null,
      "outputs": []
    },
    {
      "cell_type": "code",
      "source": [
        "#Q.8\n",
        "n=int(input())\n",
        "squares = [(i,i**2) for i in range(1,n+1)]\n",
        "print(squares)"
      ],
      "metadata": {
        "id": "WO1fnsJw2KVq"
      },
      "execution_count": null,
      "outputs": []
    },
    {
      "cell_type": "code",
      "source": [
        "from typing import Counter\n",
        "#Q.9\n",
        "dict1 = {'a': 10, 'b': 20}\n",
        "dict2 = {'b': 5, 'c': 15}\n",
        "Dict = Counter(dict1) + Counter(dict2)\n",
        "print(Dict)"
      ],
      "metadata": {
        "id": "D0m8iO-o4Sli"
      },
      "execution_count": null,
      "outputs": []
    },
    {
      "cell_type": "code",
      "source": [
        "#Q.23\n",
        "n=int(input())\n",
        "if n%2 == 0:\n",
        "  print(f\"{n} is an Even number.\")\n",
        "elif n%2 != 0:\n",
        "  print(f\"{n} is an Odd number.\")"
      ],
      "metadata": {
        "id": "NSDqPjiUqRuT"
      },
      "execution_count": null,
      "outputs": []
    },
    {
      "cell_type": "code",
      "source": [
        "#Q.24\n",
        "n = int(input())\n",
        "if n>=0 and n<=100:\n",
        "  if n>=90 and n<=100:\n",
        "    print(\"Grade: A\")\n",
        "  elif n>=80 and n<90:\n",
        "    print(\"Grade: B\")\n",
        "  elif n>=70 and n<80:\n",
        "    print(\"Grade: C\")\n",
        "  elif n>=50 and n<70:\n",
        "    print(\"Grade: D\")\n",
        "  elif n<50:\n",
        "    print(\"Grade: F\")\n",
        "else:\n",
        "  print(\"Wrong Input.\")"
      ],
      "metadata": {
        "id": "j2CKQDZroqeL"
      },
      "execution_count": null,
      "outputs": []
    },
    {
      "cell_type": "code",
      "execution_count": null,
      "metadata": {
        "id": "DcHTv7SjnMK5"
      },
      "outputs": [],
      "source": [
        "#Q.25\n",
        "n= int(input())\n",
        "if (n%4 == 0 and n%100 !=0) or n%400 == 0:\n",
        "  print(f\"{n} is a leap year.\",)\n",
        "else:\n",
        "  print(f\"{n} is not a leap year.\")"
      ]
    }
  ]
}