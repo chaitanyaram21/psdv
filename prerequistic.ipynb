{
  "nbformat": 4,
  "nbformat_minor": 0,
  "metadata": {
    "colab": {
      "provenance": [],
      "authorship_tag": "ABX9TyMJUoquy3Q/Awx3KMyA9WXu",
      "include_colab_link": true
    },
    "kernelspec": {
      "name": "python3",
      "display_name": "Python 3"
    },
    "language_info": {
      "name": "python"
    }
  },
  "cells": [
    {
      "cell_type": "markdown",
      "metadata": {
        "id": "view-in-github",
        "colab_type": "text"
      },
      "source": [
        "<a href=\"https://colab.research.google.com/github/chaitanyaram21/psdv/blob/main/prerequistic.ipynb\" target=\"_parent\"><img src=\"https://colab.research.google.com/assets/colab-badge.svg\" alt=\"Open In Colab\"/></a>"
      ]
    },
    {
      "cell_type": "code",
      "source": [
        "#Q.1\n",
        "n=int(input())\n",
        "list=[]\n",
        "#forming list\n",
        "i=1\n",
        "while i<=n:\n",
        "  list.append(i)\n",
        "  i=i+1\n",
        "print(list)\n",
        "#sum of even\n",
        "s=0\n",
        "for j in list :\n",
        "  if j%2 == 0:\n",
        "    s = s+j\n",
        "print(f\"sum is {s}\")\n",
        "#product of odd\n",
        "pro=1\n",
        "for k in list:\n",
        "  if k%2 !=0:\n",
        "    pro=pro*k\n",
        "print(f\"product is {pro}\")\n",
        "print(f\"mean is {sum/n}\")"
      ],
      "metadata": {
        "id": "IXPvOnVvxxRX"
      },
      "execution_count": null,
      "outputs": []
    },
    {
      "cell_type": "code",
      "source": [
        "#Q.2\n",
        "\"\"\"\n",
        "In Python, mutable types like lists and dictionaries can be changed after giving inputs or defining it,\n",
        "while immutable types like strings and tuples cannot be changed once defined in the program.\"\"\""
      ],
      "metadata": {
        "id": "DZXAjMQrzQic"
      },
      "execution_count": null,
      "outputs": []
    },
    {
      "cell_type": "code",
      "source": [
        "#Q.3\n",
        "n = int(input())\n",
        "a = 1\n",
        "b = 2\n",
        "for i in range(0,n):\n",
        "    print(a, end = \" \")\n",
        "    c = a+b\n",
        "    a = b\n",
        "    b = c"
      ],
      "metadata": {
        "id": "vZrAHINQyTG5"
      },
      "execution_count": null,
      "outputs": []
    },
    {
      "cell_type": "code",
      "source": [
        "#Q.4\n",
        "list = [3,5,7,9,11,13]\n",
        "list.insert(2,6)\n",
        "del list[3]\n",
        "list.reverse()\n",
        "print(list)\n",
        "sum=0\n",
        "n=0\n",
        "for i in list:\n",
        "  sum=sum+i\n",
        "  n=n+1\n",
        "print(f\"mean of the list is {sum/n}\")"
      ],
      "metadata": {
        "id": "hwe_PX9BzlML"
      },
      "execution_count": null,
      "outputs": []
    },
    {
      "cell_type": "code",
      "source": [
        "#Q.5\n",
        "def list_to_str(lst):\n",
        "    answer = \"\"\n",
        "    N = len(lst)\n",
        "\n",
        "    for i in range(N):\n",
        "        answer += str(lst[i])\n",
        "\n",
        "        if i < N - 2:\n",
        "            answer += \", \"\n",
        "        elif i == N - 2:\n",
        "            answer += \" and \"\n",
        "\n",
        "    return answer\n",
        "\n",
        "if __name__ == \"__main__\":\n",
        "    a = [10, 20, 30, 40]\n",
        "    print(list_to_str(a))\n",
        ""
      ],
      "metadata": {
        "id": "JxZXIh66R8Qt"
      },
      "execution_count": null,
      "outputs": []
    },
    {
      "cell_type": "code",
      "source": [
        "#Q.6\n",
        "def is_palindrome(input_string):\n",
        "    reversed_string = input_string[::-1]\n",
        "    return input_string == reversed_string\n",
        "\n",
        "input_string = \"AmanaplanacanalPanama\"\n",
        "if is_palindrome(input_string):\n",
        "    print(\"true\")\n",
        "else:\n",
        "    print(\"false\")"
      ],
      "metadata": {
        "id": "TKD1lJLcSDKH"
      },
      "execution_count": null,
      "outputs": []
    },
    {
      "cell_type": "code",
      "source": [
        "#Q.8\n",
        "n=int(input())\n",
        "squares = [(i,i**2) for i in range(1,n+1)]\n",
        "print(squares)"
      ],
      "metadata": {
        "id": "WO1fnsJw2KVq"
      },
      "execution_count": null,
      "outputs": []
    },
    {
      "cell_type": "code",
      "source": [
        "#Q.9\n",
        "from typing import Counter\n",
        "dict1 = {'a': 10, 'b': 20}\n",
        "dict2 = {'b': 5, 'c': 15}\n",
        "Dict = Counter(dict1) + Counter(dict2)\n",
        "print(Dict)"
      ],
      "metadata": {
        "id": "D0m8iO-o4Sli"
      },
      "execution_count": null,
      "outputs": []
    },
    {
      "cell_type": "code",
      "source": [
        "#Q.15\n",
        "from collections import Counter\n",
        "\n",
        "def find_anagrams(word, word_list):\n",
        "    word_counter = Counter(word)\n",
        "\n",
        "    anagrams = []\n",
        "    for w in word_list:\n",
        "        current_word_counter = Counter(w)\n",
        "\n",
        "        if current_word_counter == word_counter:\n",
        "            anagrams.append(w)\n",
        "\n",
        "    return anagrams\n",
        "word = \"listen\"\n",
        "word_list = [\"enlist\", \"google\", \"inlets\", \"banana\"]\n",
        "print(find_anagrams(word, word_list))"
      ],
      "metadata": {
        "id": "Y7tfNkNRSLWz"
      },
      "execution_count": null,
      "outputs": []
    },
    {
      "cell_type": "code",
      "source": [
        "#Q.19\n",
        "import random\n",
        "random_numbers = [random.randint(1, 50) for _ in range(100)]\n",
        "\n",
        "with open(\"random_numbers.txt\", \"w\") as file:\n",
        "    for number in random_numbers:\n",
        "        file.write(f\"{number}\\n\")\n",
        "with open('random_integers.txt', 'r') as file:\n",
        "    print(file.read())\n",
        "\n",
        "mean = sum(random_numbers) / len(random_numbers)\n",
        "print(f\"Mean : {mean}\")"
      ],
      "metadata": {
        "id": "OvOCicJsSTqK"
      },
      "execution_count": null,
      "outputs": []
    },
    {
      "cell_type": "code",
      "source": [
        "#Q.22\n",
        "def normalize_to_0_1(numbers):\n",
        "    min_val = min(numbers)\n",
        "    max_val = max(numbers)\n",
        "    normalized = [(x - min_val) / (max_val - min_val) for x in numbers]\n",
        "    return normalized\n",
        "\n",
        "numbers = list(range(1, 101))\n",
        "normalized_numbers = normalize_to_0_1(numbers)\n",
        "print(normalized_numbers)"
      ],
      "metadata": {
        "id": "NeCiT_FmSYCa"
      },
      "execution_count": null,
      "outputs": []
    },
    {
      "cell_type": "code",
      "source": [
        "#Q.23\n",
        "n=int(input())\n",
        "if n%2 == 0:\n",
        "  print(f\"{n} is an Even number.\")\n",
        "elif n%2 != 0:\n",
        "  print(f\"{n} is an Odd number.\")"
      ],
      "metadata": {
        "id": "NSDqPjiUqRuT"
      },
      "execution_count": null,
      "outputs": []
    },
    {
      "cell_type": "code",
      "source": [
        "#Q.24\n",
        "n = int(input())\n",
        "if n>=0 and n<=100:\n",
        "  if n>=90 and n<=100:\n",
        "    print(\"Grade: A\")\n",
        "  elif n>=80 and n<90:\n",
        "    print(\"Grade: B\")\n",
        "  elif n>=70 and n<80:\n",
        "    print(\"Grade: C\")\n",
        "  elif n>=50 and n<70:\n",
        "    print(\"Grade: D\")\n",
        "  elif n<50:\n",
        "    print(\"Grade: F\")\n",
        "else:\n",
        "  print(\"Wrong Input.\")"
      ],
      "metadata": {
        "id": "j2CKQDZroqeL"
      },
      "execution_count": null,
      "outputs": []
    },
    {
      "cell_type": "code",
      "execution_count": null,
      "metadata": {
        "id": "DcHTv7SjnMK5"
      },
      "outputs": [],
      "source": [
        "#Q.25\n",
        "n= int(input())\n",
        "if (n%4 == 0 and n%100 !=0) or n%400 == 0:\n",
        "  print(f\"{n} is a leap year.\",)\n",
        "else:\n",
        "  print(f\"{n} is not a leap year.\")"
      ]
    }
  ]
}